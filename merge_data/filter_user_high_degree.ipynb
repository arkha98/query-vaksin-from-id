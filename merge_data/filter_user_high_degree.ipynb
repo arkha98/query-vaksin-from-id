{
 "cells": [
  {
   "cell_type": "code",
   "execution_count": 9,
   "metadata": {},
   "outputs": [],
   "source": [
    "import time\n",
    "import glob\n",
    "import pandas as pd\n",
    "import numpy as np\n",
    "from tqdm import tqdm\n",
    "import tweepy\n",
    "\n",
    "# Import Path\n",
    "main_path = '../'\n",
    "query_tweet_path = main_path+'query_tweet/'\n",
    "auth_path = main_path+'auth/'\n",
    "ids_path = main_path+'covid19-indonesian-tweet/ids/'\n",
    "merge_path = './'"
   ]
  },
  {
   "cell_type": "code",
   "execution_count": 11,
   "metadata": {},
   "outputs": [
    {
     "name": "stderr",
     "output_type": "stream",
     "text": [
      "/tmp/ipykernel_3015/3284853951.py:1: DtypeWarning: Columns (0,1,2,3,4,5,6,7,8,10,11,12,13,16,17,18,19,20,21,23,24,29,30,31,34,35,36) have mixed types. Specify dtype option on import or set low_memory=False.\n",
      "  merge_tweet_labeled = pd.read_csv(merge_path+'merge_tweet_labeled.csv')\n"
     ]
    },
    {
     "data": {
      "text/plain": [
       "(364193, 37)"
      ]
     },
     "execution_count": 11,
     "metadata": {},
     "output_type": "execute_result"
    }
   ],
   "source": [
    "merge_tweet_labeled = pd.read_csv(merge_path+'merge_tweet_labeled.csv')\n",
    "merge_tweet_labeled.shape"
   ]
  },
  {
   "cell_type": "code",
   "execution_count": 12,
   "metadata": {},
   "outputs": [
    {
     "name": "stdout",
     "output_type": "stream",
     "text": [
      "<class 'pandas.core.frame.DataFrame'>\n",
      "RangeIndex: 364193 entries, 0 to 364192\n",
      "Data columns (total 37 columns):\n",
      " #   Column                      Non-Null Count   Dtype  \n",
      "---  ------                      --------------   -----  \n",
      " 0   Unnamed: 0                  364193 non-null  object \n",
      " 1   coordinates                 13984 non-null   object \n",
      " 2   created_at                  216733 non-null  object \n",
      " 3   hashtags                    39126 non-null   object \n",
      " 4   media                       39121 non-null   object \n",
      " 5   urls                        79947 non-null   object \n",
      " 6   favorite_count              202879 non-null  object \n",
      " 7   id                          202879 non-null  object \n",
      " 8   in_reply_to_screen_name     84444 non-null   object \n",
      " 9   in_reply_to_status_id       83094 non-null   float64\n",
      " 10  in_reply_to_user_id         84656 non-null   object \n",
      " 11  lang                        202879 non-null  object \n",
      " 12  place                       5576 non-null    object \n",
      " 13  possibly_sensitive          86082 non-null   object \n",
      " 14  quote_id                    21724 non-null   float64\n",
      " 15  retweet_count               202862 non-null  float64\n",
      " 16  retweet_id                  378 non-null     object \n",
      " 17  retweet_screen_name         378 non-null     object \n",
      " 18  source                      202862 non-null  object \n",
      " 19  text                        202862 non-null  object \n",
      " 20  tweet_url                   202858 non-null  object \n",
      " 21  user_created_at             202858 non-null  object \n",
      " 22  user_id                     202858 non-null  float64\n",
      " 23  user_default_profile_image  202858 non-null  object \n",
      " 24  user_description            181007 non-null  object \n",
      " 25  user_favourites_count       156220 non-null  float64\n",
      " 26  user_followers_count        156220 non-null  float64\n",
      " 27  user_friends_count          156220 non-null  float64\n",
      " 28  user_listed_count           156220 non-null  float64\n",
      " 29  user_location               102011 non-null  object \n",
      " 30  user_name                   156192 non-null  object \n",
      " 31  user_screen_name            156220 non-null  object \n",
      " 32  user_statuses_count         156220 non-null  float64\n",
      " 33  user_time_zone              0 non-null       float64\n",
      " 34  user_urls                   53856 non-null   object \n",
      " 35  user_verified               156220 non-null  object \n",
      " 36  stance                      156220 non-null  object \n",
      "dtypes: float64(10), object(27)\n",
      "memory usage: 102.8+ MB\n"
     ]
    }
   ],
   "source": [
    "merge_tweet_labeled.info()"
   ]
  },
  {
   "cell_type": "code",
   "execution_count": 5,
   "metadata": {},
   "outputs": [
    {
     "data": {
      "text/plain": [
       "array(['PRO', 'ABSTAIN', 'KONTRA', nan], dtype=object)"
      ]
     },
     "execution_count": 5,
     "metadata": {},
     "output_type": "execute_result"
    }
   ],
   "source": [
    "merge_tweet_labeled['stance'].unique()"
   ]
  },
  {
   "cell_type": "code",
   "execution_count": null,
   "metadata": {},
   "outputs": [],
   "source": [
    "stance = ''\n",
    "count = 1000\n",
    "high_followers_count = merge_tweet_labeled.index[merge_tweet_labeled['user_followers_count'] >= count].tolist()\n",
    "high_following_count = merge_tweet_labeled.index[merge_tweet_labeled['user_friends_count'] >= count].tolist()\n",
    "\n",
    "print('high_follower_count',len(merge_tweet_labeled.loc[high_followers_count,'user_id'].unique()))\n",
    "print('high_following_count',len(merge_tweet_labeled.loc[high_following_count,'user_id'].unique()))"
   ]
  }
 ],
 "metadata": {
  "kernelspec": {
   "display_name": "Python 3.10.5 ('env': venv)",
   "language": "python",
   "name": "python3"
  },
  "language_info": {
   "codemirror_mode": {
    "name": "ipython",
    "version": 3
   },
   "file_extension": ".py",
   "mimetype": "text/x-python",
   "name": "python",
   "nbconvert_exporter": "python",
   "pygments_lexer": "ipython3",
   "version": "3.10.5"
  },
  "orig_nbformat": 4,
  "vscode": {
   "interpreter": {
    "hash": "a83f6bfcc771d7640d912d90fc90f3d3c44535298bb0e9fb6c185c6b497046d3"
   }
  }
 },
 "nbformat": 4,
 "nbformat_minor": 2
}
