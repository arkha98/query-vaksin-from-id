{
 "cells": [
  {
   "cell_type": "code",
   "execution_count": 1,
   "metadata": {},
   "outputs": [],
   "source": [
    "import time\n",
    "import glob\n",
    "import pandas as pd\n",
    "import numpy as np\n",
    "from tqdm import tqdm\n",
    "import tweepy"
   ]
  },
  {
   "cell_type": "code",
   "execution_count": 2,
   "metadata": {},
   "outputs": [],
   "source": [
    "# Import Path\n",
    "main_path = '../'\n",
    "query_tweet_path = main_path+'query_tweet/'\n",
    "auth_path = main_path+'auth/'\n",
    "ids_path = main_path+'covid19-indonesian-tweet/ids/'\n",
    "merge_path = './'"
   ]
  },
  {
   "cell_type": "code",
   "execution_count": 3,
   "metadata": {},
   "outputs": [
    {
     "name": "stderr",
     "output_type": "stream",
     "text": [
      "/tmp/ipykernel_134463/282863931.py:1: DtypeWarning: Columns (16) have mixed types. Specify dtype option on import or set low_memory=False.\n",
      "  merge_tweet = pd.read_csv(merge_path+'merge_tweet.csv')\n"
     ]
    }
   ],
   "source": [
    "merge_tweet = pd.read_csv(merge_path+'merge_tweet.csv')"
   ]
  },
  {
   "cell_type": "code",
   "execution_count": null,
   "metadata": {},
   "outputs": [],
   "source": [
    "merge_tweet.shape"
   ]
  },
  {
   "cell_type": "code",
   "execution_count": null,
   "metadata": {},
   "outputs": [],
   "source": [
    "merge_tweet.info()"
   ]
  },
  {
   "cell_type": "code",
   "execution_count": null,
   "metadata": {},
   "outputs": [],
   "source": [
    "merge_tweet.head()"
   ]
  },
  {
   "cell_type": "code",
   "execution_count": null,
   "metadata": {},
   "outputs": [],
   "source": [
    "len(merge_tweet['user_id'].unique())"
   ]
  },
  {
   "cell_type": "code",
   "execution_count": null,
   "metadata": {},
   "outputs": [],
   "source": [
    "def query_user_following(list_user_id):\n",
    "    count = 0\n",
    "    # Load auth file\n",
    "    acct_twitter_1 = pd.read_csv(auth_path+'arkha_analytics.csv')\n",
    "    acct_twitter_2 = pd.read_csv(auth_path+'dummy_analytic.csv')\n",
    "    acct_twitter_3 = pd.read_csv(auth_path+'arkha98-dev.csv')\n",
    "    # Authorize our Twitter credentials\n",
    "    auth = tweepy.OAuthHandler(acct_twitter_1.api_key.values[0], acct_twitter_1.api_key_secret.values[0])\n",
    "    auth.set_access_token(acct_twitter_1.access_token.values[0], acct_twitter_1.access_token_secret.values[0])\n",
    "    api = tweepy.API(auth)\n",
    "\n",
    "    df = pd.DataFrame(columns=['user_id', 'following'])\n",
    "\n",
    "    for user_id in tqdm(list_user_id):\n",
    "        following = api.get_follower_ids(user_id=user_id)\n",
    "        for user in following:\n",
    "            df2 = pd.DataFrame({\"user_id\":[user_id], \"following\":[user]})\n",
    "            df = pd.concat([df, df2], ignore_index=True, sort=False)\n",
    "    return df\n",
    "\n",
    "def query_user_followers(list_user_id):\n",
    "    count = 0\n",
    "    # Load auth file\n",
    "    acct_twitter_1 = pd.read_csv(auth_path+'arkha_analytics.csv')\n",
    "    acct_twitter_2 = pd.read_csv(auth_path+'dummy_analytic.csv')\n",
    "    acct_twitter_3 = pd.read_csv(auth_path+'arkha98-dev.csv')\n",
    "    # Authorize our Twitter credentials\n",
    "    auth = tweepy.OAuthHandler(acct_twitter_1.api_key.values[0], acct_twitter_1.api_key_secret.values[0])\n",
    "    auth.set_access_token(acct_twitter_1.access_token.values[0], acct_twitter_1.access_token_secret.values[0])\n",
    "    api = tweepy.API(auth)\n",
    "\n",
    "    df = pd.DataFrame(columns=['user_id', 'follower'])\n",
    "\n",
    "    for user_id in tqdm(list_user_id):\n",
    "        followers = api.get_follower_ids(user_id=user_id)\n",
    "        for user in followers:\n",
    "            df2 = pd.DataFrame({\"user_id\":[user_id], \"follower\":[user]})\n",
    "            df = pd.concat([df, df2], ignore_index=True, sort=False)\n",
    "    return df"
   ]
  },
  {
   "cell_type": "code",
   "execution_count": 4,
   "metadata": {},
   "outputs": [],
   "source": [
    "all_id = merge_tweet['user_id'].unique()"
   ]
  },
  {
   "cell_type": "code",
   "execution_count": 5,
   "metadata": {},
   "outputs": [],
   "source": [
    "# Load auth file\n",
    "acct_twitter_1 = pd.read_csv(auth_path+'arkha_analytics.csv')\n",
    "acct_twitter_2 = pd.read_csv(auth_path+'dummy_analytic.csv')\n",
    "acct_twitter_3 = pd.read_csv(auth_path+'arkha98-dev.csv')\n",
    "# Authorize our Twitter credentials\n",
    "auth = tweepy.OAuthHandler(acct_twitter_1.api_key.values[0], acct_twitter_1.api_key_secret.values[0])\n",
    "auth.set_access_token(acct_twitter_1.access_token.values[0], acct_twitter_1.access_token_secret.values[0])\n",
    "api = tweepy.API(auth)"
   ]
  },
  {
   "cell_type": "code",
   "execution_count": null,
   "metadata": {},
   "outputs": [],
   "source": [
    "tmp1 = api.get_follower_ids(user_id=all_id[0])\n",
    "tmp2 = api.get_friend_ids(user_id=all_id[0])"
   ]
  },
  {
   "cell_type": "code",
   "execution_count": null,
   "metadata": {},
   "outputs": [],
   "source": [
    "tmp1"
   ]
  },
  {
   "cell_type": "code",
   "execution_count": null,
   "metadata": {},
   "outputs": [],
   "source": [
    "tmp2"
   ]
  },
  {
   "cell_type": "code",
   "execution_count": null,
   "metadata": {},
   "outputs": [],
   "source": [
    "list_followers = query_user_followers(all_id)"
   ]
  },
  {
   "cell_type": "code",
   "execution_count": null,
   "metadata": {},
   "outputs": [],
   "source": [
    "list_following = query_user_following(all_id)"
   ]
  },
  {
   "cell_type": "code",
   "execution_count": null,
   "metadata": {},
   "outputs": [],
   "source": [
    "list_followers.to_csv(merge_path+'list_followers', index=False)\n",
    "list_following.to_csv(merge_path+'list_following', index=False)"
   ]
  },
  {
   "cell_type": "code",
   "execution_count": 6,
   "metadata": {},
   "outputs": [],
   "source": [
    "labeled_data = pd.read_csv(merge_path+'labeled-all-data.csv')"
   ]
  },
  {
   "cell_type": "code",
   "execution_count": 7,
   "metadata": {},
   "outputs": [
    {
     "data": {
      "text/plain": [
       "(161864, 3)"
      ]
     },
     "execution_count": 7,
     "metadata": {},
     "output_type": "execute_result"
    }
   ],
   "source": [
    "labeled_data.shape"
   ]
  },
  {
   "cell_type": "code",
   "execution_count": 8,
   "metadata": {},
   "outputs": [
    {
     "data": {
      "text/html": [
       "<div>\n",
       "<style scoped>\n",
       "    .dataframe tbody tr th:only-of-type {\n",
       "        vertical-align: middle;\n",
       "    }\n",
       "\n",
       "    .dataframe tbody tr th {\n",
       "        vertical-align: top;\n",
       "    }\n",
       "\n",
       "    .dataframe thead th {\n",
       "        text-align: right;\n",
       "    }\n",
       "</style>\n",
       "<table border=\"1\" class=\"dataframe\">\n",
       "  <thead>\n",
       "    <tr style=\"text-align: right;\">\n",
       "      <th></th>\n",
       "      <th>id</th>\n",
       "      <th>tweet</th>\n",
       "      <th>stance</th>\n",
       "    </tr>\n",
       "  </thead>\n",
       "  <tbody>\n",
       "    <tr>\n",
       "      <th>0</th>\n",
       "      <td>1526873255583154177</td>\n",
       "      <td>@ftrrii1 @husnaa_a Pandemi berdasarkan dugaan ...</td>\n",
       "      <td>ABSTAIN</td>\n",
       "    </tr>\n",
       "    <tr>\n",
       "      <th>1</th>\n",
       "      <td>1526873332393598977</td>\n",
       "      <td>Penumpang KAJJ vaksinasi dosis kedua atau boos...</td>\n",
       "      <td>ABSTAIN</td>\n",
       "    </tr>\n",
       "    <tr>\n",
       "      <th>2</th>\n",
       "      <td>1526873365033537536</td>\n",
       "      <td>@its_shihaa Udaah pake pfizer jumat minggu lal...</td>\n",
       "      <td>ABSTAIN</td>\n",
       "    </tr>\n",
       "    <tr>\n",
       "      <th>3</th>\n",
       "      <td>1526874139381755904</td>\n",
       "      <td>VIDEO: FDA Izinkan Vaksin Booster Pfizer untuk...</td>\n",
       "      <td>PRO</td>\n",
       "    </tr>\n",
       "    <tr>\n",
       "      <th>4</th>\n",
       "      <td>1526875038070218752</td>\n",
       "      <td>Percepat Vaksinasi, Dengan Humanis Forpimka Se...</td>\n",
       "      <td>PRO</td>\n",
       "    </tr>\n",
       "  </tbody>\n",
       "</table>\n",
       "</div>"
      ],
      "text/plain": [
       "                    id                                              tweet  \\\n",
       "0  1526873255583154177  @ftrrii1 @husnaa_a Pandemi berdasarkan dugaan ...   \n",
       "1  1526873332393598977  Penumpang KAJJ vaksinasi dosis kedua atau boos...   \n",
       "2  1526873365033537536  @its_shihaa Udaah pake pfizer jumat minggu lal...   \n",
       "3  1526874139381755904  VIDEO: FDA Izinkan Vaksin Booster Pfizer untuk...   \n",
       "4  1526875038070218752  Percepat Vaksinasi, Dengan Humanis Forpimka Se...   \n",
       "\n",
       "    stance  \n",
       "0  ABSTAIN  \n",
       "1  ABSTAIN  \n",
       "2  ABSTAIN  \n",
       "3      PRO  \n",
       "4      PRO  "
      ]
     },
     "execution_count": 8,
     "metadata": {},
     "output_type": "execute_result"
    }
   ],
   "source": [
    "labeled_data.head()"
   ]
  },
  {
   "cell_type": "code",
   "execution_count": 9,
   "metadata": {},
   "outputs": [
    {
     "data": {
      "text/plain": [
       "(156237, 35)"
      ]
     },
     "execution_count": 9,
     "metadata": {},
     "output_type": "execute_result"
    }
   ],
   "source": [
    "merge_tweet.shape"
   ]
  },
  {
   "cell_type": "code",
   "execution_count": 10,
   "metadata": {},
   "outputs": [
    {
     "name": "stdout",
     "output_type": "stream",
     "text": [
      "<class 'pandas.core.frame.DataFrame'>\n",
      "RangeIndex: 156237 entries, 0 to 156236\n",
      "Data columns (total 35 columns):\n",
      " #   Column                      Non-Null Count   Dtype  \n",
      "---  ------                      --------------   -----  \n",
      " 0   coordinates                 113 non-null     object \n",
      " 1   created_at                  156237 non-null  object \n",
      " 2   hashtags                    14712 non-null   object \n",
      " 3   media                       25250 non-null   object \n",
      " 4   urls                        40492 non-null   object \n",
      " 5   favorite_count              156237 non-null  int64  \n",
      " 6   id                          156237 non-null  int64  \n",
      " 7   in_reply_to_screen_name     64886 non-null   object \n",
      " 8   in_reply_to_status_id       63549 non-null   float64\n",
      " 9   in_reply_to_user_id         65107 non-null   float64\n",
      " 10  lang                        156237 non-null  object \n",
      " 11  place                       5559 non-null    object \n",
      " 12  possibly_sensitive          60492 non-null   object \n",
      " 13  quote_id                    11181 non-null   float64\n",
      " 14  retweet_count               156237 non-null  int64  \n",
      " 15  retweet_id                  374 non-null     float64\n",
      " 16  retweet_screen_name         374 non-null     object \n",
      " 17  source                      156237 non-null  object \n",
      " 18  text                        156237 non-null  object \n",
      " 19  tweet_url                   156237 non-null  object \n",
      " 20  user_created_at             156237 non-null  object \n",
      " 21  user_id                     156237 non-null  int64  \n",
      " 22  user_default_profile_image  156237 non-null  bool   \n",
      " 23  user_description            134385 non-null  object \n",
      " 24  user_favourites_count       156237 non-null  int64  \n",
      " 25  user_followers_count        156237 non-null  int64  \n",
      " 26  user_friends_count          156237 non-null  int64  \n",
      " 27  user_listed_count           156237 non-null  int64  \n",
      " 28  user_location               102025 non-null  object \n",
      " 29  user_name                   156209 non-null  object \n",
      " 30  user_screen_name            156237 non-null  object \n",
      " 31  user_statuses_count         156237 non-null  int64  \n",
      " 32  user_time_zone              0 non-null       float64\n",
      " 33  user_urls                   53862 non-null   object \n",
      " 34  user_verified               156237 non-null  bool   \n",
      "dtypes: bool(2), float64(5), int64(9), object(19)\n",
      "memory usage: 39.6+ MB\n"
     ]
    }
   ],
   "source": [
    "merge_tweet.info()"
   ]
  },
  {
   "cell_type": "code",
   "execution_count": 22,
   "metadata": {},
   "outputs": [],
   "source": [
    "tmp1 = merge_tweet.copy()\n",
    "tmp2 = merge_tweet.copy()"
   ]
  },
  {
   "cell_type": "code",
   "execution_count": 24,
   "metadata": {},
   "outputs": [],
   "source": [
    "tmp1 = tmp1.dropna(subset=['retweet_id'])\n",
    "tmp2 = tmp2.dropna(subset=['in_reply_to_user_id'])"
   ]
  },
  {
   "cell_type": "code",
   "execution_count": 25,
   "metadata": {},
   "outputs": [
    {
     "data": {
      "text/plain": [
       "1.2858966872029184e+18"
      ]
     },
     "execution_count": 25,
     "metadata": {},
     "output_type": "execute_result"
    }
   ],
   "source": [
    "tmp1.iloc[0]['retweet_id']"
   ]
  },
  {
   "cell_type": "code",
   "execution_count": 26,
   "metadata": {},
   "outputs": [
    {
     "data": {
      "text/plain": [
       "1.4022709600620134e+18"
      ]
     },
     "execution_count": 26,
     "metadata": {},
     "output_type": "execute_result"
    }
   ],
   "source": [
    "tmp2.iloc[0]['in_reply_to_user_id']"
   ]
  },
  {
   "cell_type": "code",
   "execution_count": 19,
   "metadata": {},
   "outputs": [
    {
     "data": {
      "text/plain": [
       "(374, 35)"
      ]
     },
     "execution_count": 19,
     "metadata": {},
     "output_type": "execute_result"
    }
   ],
   "source": [
    "tmp1.shape"
   ]
  },
  {
   "cell_type": "code",
   "execution_count": 29,
   "metadata": {},
   "outputs": [
    {
     "data": {
      "text/plain": [
       "353"
      ]
     },
     "execution_count": 29,
     "metadata": {},
     "output_type": "execute_result"
    }
   ],
   "source": [
    "len(tmp1['user_id'].unique())"
   ]
  },
  {
   "cell_type": "code",
   "execution_count": 27,
   "metadata": {},
   "outputs": [
    {
     "data": {
      "text/plain": [
       "(65107, 35)"
      ]
     },
     "execution_count": 27,
     "metadata": {},
     "output_type": "execute_result"
    }
   ],
   "source": [
    "tmp2.shape"
   ]
  },
  {
   "cell_type": "code",
   "execution_count": 30,
   "metadata": {},
   "outputs": [
    {
     "data": {
      "text/plain": [
       "47313"
      ]
     },
     "execution_count": 30,
     "metadata": {},
     "output_type": "execute_result"
    }
   ],
   "source": [
    "len(tmp2['user_id'].unique())"
   ]
  }
 ],
 "metadata": {
  "kernelspec": {
   "display_name": "Python 3.10.5 ('env': venv)",
   "language": "python",
   "name": "python3"
  },
  "language_info": {
   "codemirror_mode": {
    "name": "ipython",
    "version": 3
   },
   "file_extension": ".py",
   "mimetype": "text/x-python",
   "name": "python",
   "nbconvert_exporter": "python",
   "pygments_lexer": "ipython3",
   "version": "3.10.5"
  },
  "orig_nbformat": 4,
  "vscode": {
   "interpreter": {
    "hash": "a83f6bfcc771d7640d912d90fc90f3d3c44535298bb0e9fb6c185c6b497046d3"
   }
  }
 },
 "nbformat": 4,
 "nbformat_minor": 2
}
